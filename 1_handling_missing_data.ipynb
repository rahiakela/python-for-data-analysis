{
  "nbformat": 4,
  "nbformat_minor": 0,
  "metadata": {
    "colab": {
      "name": "1-handling-missing-data.ipynb",
      "provenance": [],
      "toc_visible": true,
      "authorship_tag": "ABX9TyMwLZB0aQ2bFm05BIVJYtNs",
      "include_colab_link": true
    },
    "kernelspec": {
      "name": "python3",
      "display_name": "Python 3"
    }
  },
  "cells": [
    {
      "cell_type": "markdown",
      "metadata": {
        "id": "view-in-github",
        "colab_type": "text"
      },
      "source": [
        "<a href=\"https://colab.research.google.com/github/rahiakela/python-for-data-analysis/blob/7-data-cleaning-and-preparation/1_handling_missing_data.ipynb\" target=\"_parent\"><img src=\"https://colab.research.google.com/assets/colab-badge.svg\" alt=\"Open In Colab\"/></a>"
      ]
    },
    {
      "cell_type": "markdown",
      "metadata": {
        "id": "Cv0mBxfMB3b1",
        "colab_type": "text"
      },
      "source": [
        "# Handling Missing Data"
      ]
    },
    {
      "cell_type": "markdown",
      "metadata": {
        "id": "uAHMThoNB4Yl",
        "colab_type": "text"
      },
      "source": [
        "During the course of doing data analysis and modeling, a significant amount of time is spent on data preparation: loading, cleaning, transforming, and rearranging. Such tasks are often reported to take up 80% or more of an analyst’s time. Sometimes the way that data is stored in files or databases is not in the right format for a particular task. \n",
        "\n",
        "Many researchers choose to do ad hoc processing of data from one form to another using a general-purpose programming language like Python, Perl, R, or Java, or Unix text-processing tools like sed or awk. Fortunately, pandas, along with the built-in Python language features, provides you with a high-level, flexible, and fast set of tools to enable you to manipulate data into the right form.\n",
        "\n",
        "The type of data manipulation includes:-\n",
        "* Handling Missing Data\n",
        "* Data Transformations\n",
        "* String Manipulation"
      ]
    },
    {
      "cell_type": "markdown",
      "metadata": {
        "id": "MiV5gfD5Cowe",
        "colab_type": "text"
      },
      "source": [
        "## Handling Missing Data"
      ]
    },
    {
      "cell_type": "markdown",
      "metadata": {
        "id": "0nYgf2mwCprm",
        "colab_type": "text"
      },
      "source": [
        "Missing data occurs commonly in many data analysis applications. One of the goals of pandas is to make working with missing data as painless as possible. For example, all of the descriptive statistics on pandas objects exclude missing data by default.\n",
        "\n",
        "The way that missing data is represented in pandas objects is somewhat imperfect, but it is functional for a lot of users. For numeric data, pandas uses the floating-point value NaN (Not a Number) to represent missing data. We call this a sentinel value that can be easily detected."
      ]
    },
    {
      "cell_type": "code",
      "metadata": {
        "id": "w8tBU2UtC-ug",
        "colab_type": "code",
        "colab": {}
      },
      "source": [
        "import pandas as pd\n",
        "import numpy as np"
      ],
      "execution_count": 0,
      "outputs": []
    },
    {
      "cell_type": "code",
      "metadata": {
        "id": "P7cRHaM2DDHu",
        "colab_type": "code",
        "colab": {
          "base_uri": "https://localhost:8080/",
          "height": 106
        },
        "outputId": "05283d15-ddaf-4580-df20-d58dee4cbabb"
      },
      "source": [
        "string_data = pd.Series(['aardvark', 'artichoke', np.nan, 'avocado'])\n",
        "string_data"
      ],
      "execution_count": 3,
      "outputs": [
        {
          "output_type": "execute_result",
          "data": {
            "text/plain": [
              "0     aardvark\n",
              "1    artichoke\n",
              "2          NaN\n",
              "3      avocado\n",
              "dtype: object"
            ]
          },
          "metadata": {
            "tags": []
          },
          "execution_count": 3
        }
      ]
    },
    {
      "cell_type": "code",
      "metadata": {
        "id": "cHrWno91DX2n",
        "colab_type": "code",
        "colab": {
          "base_uri": "https://localhost:8080/",
          "height": 106
        },
        "outputId": "e049a028-1171-46b4-fb54-492ad9178f17"
      },
      "source": [
        "string_data.isnull()"
      ],
      "execution_count": 4,
      "outputs": [
        {
          "output_type": "execute_result",
          "data": {
            "text/plain": [
              "0    False\n",
              "1    False\n",
              "2     True\n",
              "3    False\n",
              "dtype: bool"
            ]
          },
          "metadata": {
            "tags": []
          },
          "execution_count": 4
        }
      ]
    },
    {
      "cell_type": "code",
      "metadata": {
        "id": "pmmP84clDb1K",
        "colab_type": "code",
        "colab": {
          "base_uri": "https://localhost:8080/",
          "height": 106
        },
        "outputId": "2332da9e-f237-409e-903b-4c8f3dd5f0ef"
      },
      "source": [
        "string_data[0] = None\n",
        "string_data.isnull()"
      ],
      "execution_count": 5,
      "outputs": [
        {
          "output_type": "execute_result",
          "data": {
            "text/plain": [
              "0     True\n",
              "1    False\n",
              "2     True\n",
              "3    False\n",
              "dtype: bool"
            ]
          },
          "metadata": {
            "tags": []
          },
          "execution_count": 5
        }
      ]
    },
    {
      "cell_type": "markdown",
      "metadata": {
        "id": "xoQpsglcD001",
        "colab_type": "text"
      },
      "source": [
        "There is work ongoing in the pandas project to improve the internal details of how missing data is handled, but the user API functions, like pandas.isnull, abstract away many of the annoying details.\n",
        "\n",
        "NA handling methods-\n",
        "* **dropna**:Filter axis labels based on whether values for each label have missing data, with varying thresholds for how\n",
        "much missing data to tolerate.\n",
        "* **fillna**:Fill in missing data with some value or using an interpolation method such as 'ffill' or 'bfill'.\n",
        "* **isnull**:Return boolean values indicating which values are missing/NA.\n",
        "* **notnull**:Negation of isnull."
      ]
    },
    {
      "cell_type": "markdown",
      "metadata": {
        "id": "JBsxeeUVtYaW",
        "colab_type": "text"
      },
      "source": [
        "## Filtering Out Missing Data"
      ]
    },
    {
      "cell_type": "markdown",
      "metadata": {
        "id": "g1VZzr_dtZnl",
        "colab_type": "text"
      },
      "source": [
        ""
      ]
    },
    {
      "cell_type": "code",
      "metadata": {
        "id": "WqGjXAxpDtRB",
        "colab_type": "code",
        "colab": {}
      },
      "source": [
        ""
      ],
      "execution_count": 0,
      "outputs": []
    }
  ]
}